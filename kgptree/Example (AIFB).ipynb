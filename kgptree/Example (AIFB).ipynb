{
 "cells": [
  {
   "cell_type": "code",
   "execution_count": 1,
   "metadata": {},
   "outputs": [],
   "source": [
    "import rdflib\n",
    "import pandas as pd\n",
    "\n",
    "from sklearn.metrics import accuracy_score, confusion_matrix\n",
    "from sklearn.model_selection import GridSearchCV, StratifiedKFold\n",
    "\n",
    "import sys\n",
    "sys.path.append('..')\n",
    "from tree_builder import KGPTree\n",
    "from datastructures import *\n",
    "import time\n",
    "\n",
    "import pickle"
   ]
  },
  {
   "cell_type": "code",
   "execution_count": 3,
   "metadata": {},
   "outputs": [],
   "source": [
    "rdf_file = '../data/AIFB/aifb.n3'\n",
    "_format = 'n3'\n",
    "train_file = '../data/AIFB/AIFB_test.tsv'\n",
    "test_file = '../data/AIFB/AIFB_train.tsv'\n",
    "entity_col = 'person'\n",
    "label_col = 'label_affiliation'\n",
    "label_predicates = [\n",
    "    rdflib.URIRef('http://swrc.ontoware.org/ontology#affiliation'),\n",
    "    rdflib.URIRef('http://swrc.ontoware.org/ontology#employs'),\n",
    "    rdflib.URIRef('http://swrc.ontoware.org/ontology#carriedOutBy')\n",
    "]\n",
    "output = 'output/aifb_depth10.p'"
   ]
  },
  {
   "cell_type": "code",
   "execution_count": 4,
   "metadata": {},
   "outputs": [
    {
     "name": "stdout",
     "output_type": "stream",
     "text": [
      "Loading data... OK\n"
     ]
    }
   ],
   "source": [
    "print(end='Loading data... ', flush=True)\n",
    "g = rdflib.Graph()\n",
    "g.parse(rdf_file, format=_format)\n",
    "print('OK')\n",
    "\n",
    "test_data = pd.read_csv(train_file, sep='\\t')\n",
    "train_data = pd.read_csv(test_file, sep='\\t')\n",
    "\n",
    "train_entities = [rdflib.URIRef(x) for x in train_data[entity_col]]\n",
    "train_labels = train_data[label_col]\n",
    "\n",
    "test_entities = [rdflib.URIRef(x) for x in test_data[entity_col]]\n",
    "test_labels = test_data[label_col]\n",
    "\n",
    "kg = KnowledgeGraph.rdflib_to_kg(g, label_predicates=label_predicates)\n",
    "\n",
    "clf = KGPTree(kg, path_max_depth=6, neighborhood_depth=8, min_samples_leaf=1, max_tree_depth=5)"
   ]
  },
  {
   "cell_type": "code",
   "execution_count": 6,
   "metadata": {},
   "outputs": [
    {
     "name": "stderr",
     "output_type": "stream",
     "text": [
      "\r",
      "  0%|          | 0/140 [00:00<?, ?it/s]"
     ]
    },
    {
     "name": "stdout",
     "output_type": "stream",
     "text": [
      "Extracting neighborhoods...\n"
     ]
    },
    {
     "name": "stderr",
     "output_type": "stream",
     "text": [
      " 38%|███▊      | 53/140 [00:09<00:16,  5.36it/s]/usr/local/lib/python3.6/dist-packages/tqdm/_monitor.py:89: TqdmSynchronisationWarning: Set changed size during iteration (see https://github.com/tqdm/tqdm/issues/481)\n",
      "  TqdmSynchronisationWarning)\n",
      "100%|██████████| 140/140 [00:32<00:00,  4.37it/s]\n",
      "100%|██████████| 7763/7763 [00:05<00:00, 1421.83it/s]\n",
      "100%|██████████| 7763/7763 [00:08<00:00, 904.22it/s] \n",
      "100%|██████████| 7763/7763 [00:09<00:00, 823.40it/s]\n",
      "100%|██████████| 7312/7312 [00:01<00:00, 4004.08it/s]\n",
      "100%|██████████| 7312/7312 [00:03<00:00, 1992.59it/s]\n",
      "100%|██████████| 7312/7312 [00:03<00:00, 2367.51it/s]\n",
      "100%|██████████| 6232/6232 [00:00<00:00, 19243.78it/s]\n",
      "100%|██████████| 6232/6232 [00:00<00:00, 11858.66it/s]\n",
      "100%|██████████| 6232/6232 [00:00<00:00, 8295.63it/s]\n",
      "100%|██████████| 5966/5966 [00:00<00:00, 30988.27it/s]\n",
      "100%|██████████| 5966/5966 [00:00<00:00, 19042.62it/s]\n",
      "100%|██████████| 5966/5966 [00:01<00:00, 3939.70it/s]\n",
      "100%|██████████| 3728/3728 [00:01<00:00, 2129.68it/s]\n",
      "100%|██████████| 3728/3728 [00:02<00:00, 1669.59it/s]\n",
      "100%|██████████| 3728/3728 [00:02<00:00, 1388.83it/s]\n",
      "100%|██████████| 3354/3354 [00:00<00:00, 4889.65it/s]\n",
      "100%|██████████| 3354/3354 [00:00<00:00, 3810.65it/s]\n",
      "100%|██████████| 3354/3354 [00:00<00:00, 5864.29it/s]\n",
      "100%|██████████| 3178/3178 [00:01<00:00, 2629.46it/s]\n",
      "100%|██████████| 3178/3178 [00:01<00:00, 2118.84it/s]\n",
      "100%|██████████| 3178/3178 [00:01<00:00, 1907.51it/s]\n",
      "100%|██████████| 2789/2789 [00:00<00:00, 3555.39it/s]\n",
      "100%|██████████| 2789/2789 [00:00<00:00, 2928.38it/s]\n",
      "100%|██████████| 2789/2789 [00:01<00:00, 2592.38it/s]\n",
      "100%|██████████| 279/279 [00:00<00:00, 4195.76it/s]\n",
      "100%|██████████| 279/279 [00:00<00:00, 4207.95it/s]\n",
      "100%|██████████| 279/279 [00:00<00:00, 3521.18it/s]\n"
     ]
    }
   ],
   "source": [
    "clf.fit(train_entities, train_labels)"
   ]
  },
  {
   "cell_type": "code",
   "execution_count": 7,
   "metadata": {},
   "outputs": [
    {
     "name": "stdout",
     "output_type": "stream",
     "text": [
      "0.8611111111111112\n"
     ]
    }
   ],
   "source": [
    "preds = clf.predict(test_entities)\n",
    "print(accuracy_score(test_labels, preds))"
   ]
  }
 ],
 "metadata": {
  "kernelspec": {
   "display_name": "Python 3",
   "language": "python",
   "name": "python3"
  },
  "language_info": {
   "codemirror_mode": {
    "name": "ipython",
    "version": 3
   },
   "file_extension": ".py",
   "mimetype": "text/x-python",
   "name": "python",
   "nbconvert_exporter": "python",
   "pygments_lexer": "ipython3",
   "version": "3.6.5"
  }
 },
 "nbformat": 4,
 "nbformat_minor": 2
}
