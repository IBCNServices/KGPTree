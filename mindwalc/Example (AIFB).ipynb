{
 "cells": [
  {
   "cell_type": "code",
   "execution_count": 1,
   "metadata": {
    "ExecuteTime": {
     "end_time": "2024-02-26T12:59:15.224116718Z",
     "start_time": "2024-02-26T12:59:14.565666324Z"
    }
   },
   "outputs": [],
   "source": [
    "import rdflib\n",
    "import pandas as pd\n",
    "import numpy as np\n",
    "\n",
    "from tqdm import tqdm_notebook\n",
    "\n",
    "from sklearn.metrics import accuracy_score, confusion_matrix\n",
    "from sklearn.model_selection import GridSearchCV, StratifiedKFold\n",
    "\n",
    "import sys\n",
    "sys.path.append('..')\n",
    "from tree_builder import MINDWALCTree, MINDWALCForest, MINDWALCTransform, _calculate_igs\n",
    "from datastructures import Graph\n",
    "import time\n",
    "\n",
    "import pickle\n",
    "\n",
    "import warnings; warnings.filterwarnings('ignore')"
   ]
  },
  {
   "cell_type": "code",
   "execution_count": 2,
   "metadata": {
    "ExecuteTime": {
     "end_time": "2024-02-26T12:59:17.871222688Z",
     "start_time": "2024-02-26T12:59:17.867940139Z"
    }
   },
   "outputs": [],
   "source": [
    "rdf_file = 'data/AIFB/aifb.n3'\n",
    "_format = 'n3'\n",
    "train_file = 'data/AIFB/AIFB_test.tsv'\n",
    "test_file = 'data/AIFB/AIFB_train.tsv'\n",
    "entity_col = 'person'\n",
    "label_col = 'label_affiliation'\n",
    "label_predicates = [\n",
    "    rdflib.URIRef('http://swrc.ontoware.org/ontology#affiliation'),\n",
    "    rdflib.URIRef('http://swrc.ontoware.org/ontology#employs'),\n",
    "    rdflib.URIRef('http://swrc.ontoware.org/ontology#carriedOutBy')\n",
    "]\n",
    "output = 'output/aifb_depth10.p'"
   ]
  },
  {
   "cell_type": "code",
   "execution_count": 3,
   "metadata": {
    "ExecuteTime": {
     "end_time": "2024-02-26T12:59:20.543416337Z",
     "start_time": "2024-02-26T12:59:19.604948459Z"
    }
   },
   "outputs": [
    {
     "name": "stdout",
     "output_type": "stream",
     "text": [
      "Loading data... OK\n"
     ]
    }
   ],
   "source": [
    "print(end='Loading data... ', flush=True)\n",
    "g = rdflib.Graph()\n",
    "g.parse(rdf_file, format=_format)\n",
    "print('OK')\n",
    "\n",
    "test_data = pd.read_csv(train_file, sep='\\t')\n",
    "train_data = pd.read_csv(test_file, sep='\\t')\n",
    "\n",
    "train_entities = [rdflib.URIRef(x) for x in train_data[entity_col]]\n",
    "train_labels = train_data[label_col]\n",
    "\n",
    "test_entities = [rdflib.URIRef(x) for x in test_data[entity_col]]\n",
    "test_labels = test_data[label_col]\n",
    "\n",
    "kg = Graph.rdflib_to_graph(g, label_predicates=label_predicates)"
   ]
  },
  {
   "cell_type": "markdown",
   "metadata": {},
   "source": [
    "# Path Feature Transformation"
   ]
  },
  {
   "cell_type": "code",
   "execution_count": 4,
   "metadata": {},
   "outputs": [
    {
     "name": "stderr",
     "output_type": "stream",
     "text": [
      "2020-01-07 17:52:01,093\tINFO resource_spec.py:205 -- Starting Ray with 0.83 GiB memory available for workers and up to 0.42 GiB for objects. You can adjust these settings with ray.init(memory=<bytes>, object_store_memory=<bytes>).\n"
     ]
    },
    {
     "data": {
      "application/vnd.jupyter.widget-view+json": {
       "model_id": "0e5cba642ebd4798a590cbc219f96647",
       "version_major": 2,
       "version_minor": 0
      },
      "text/plain": [
       "HBox(children=(IntProgress(value=0, description='Extracting neighborhoods', max=140, style=ProgressStyle(descr…"
      ]
     },
     "metadata": {},
     "output_type": "display_data"
    },
    {
     "name": "stdout",
     "output_type": "stream",
     "text": []
    }
   ],
   "source": [
    "transf = MINDWALCTransform(path_max_depth=8, n_features=1000, progress=tqdm_notebook, n_jobs=1)\n",
    "transf.fit(kg, train_entities, train_labels)"
   ]
  },
  {
   "cell_type": "code",
   "execution_count": 5,
   "metadata": {},
   "outputs": [
    {
     "data": {
      "application/vnd.jupyter.widget-view+json": {
       "model_id": "c63a6a4aa07242a292a686bea132a75f",
       "version_major": 2,
       "version_minor": 0
      },
      "text/plain": [
       "HBox(children=(IntProgress(value=0, description='Extracting neighborhoods', max=140, style=ProgressStyle(descr…"
      ]
     },
     "metadata": {},
     "output_type": "display_data"
    },
    {
     "name": "stdout",
     "output_type": "stream",
     "text": []
    },
    {
     "data": {
      "application/vnd.jupyter.widget-view+json": {
       "model_id": "1e589b66c7464209aefb288a44e55156",
       "version_major": 2,
       "version_minor": 0
      },
      "text/plain": [
       "HBox(children=(IntProgress(value=0, description='Extracting neighborhoods', max=36, style=ProgressStyle(descri…"
      ]
     },
     "metadata": {},
     "output_type": "display_data"
    },
    {
     "name": "stdout",
     "output_type": "stream",
     "text": [
      "\n",
      "(140, 1000)\n"
     ]
    }
   ],
   "source": [
    "train_features = transf.transform(kg, train_entities)\n",
    "test_features = transf.transform(kg, test_entities)\n",
    "\n",
    "useful_features = np.sum(train_features, axis=0) > 1\n",
    "\n",
    "train_features = train_features[:, useful_features]\n",
    "test_features = test_features[:, useful_features]\n",
    "\n",
    "print(train_features.shape)"
   ]
  },
  {
   "cell_type": "code",
   "execution_count": 6,
   "metadata": {},
   "outputs": [
    {
     "name": "stdout",
     "output_type": "stream",
     "text": [
      "{'max_depth': 10, 'n_estimators': 100}\n",
      "0.8611111111111112\n"
     ]
    }
   ],
   "source": [
    "from sklearn.ensemble import RandomForestClassifier\n",
    "\n",
    "clf = GridSearchCV(RandomForestClassifier(max_features=None), \n",
    "                   {'n_estimators': [10, 100, 250], 'max_depth': [5, 10, None]})\n",
    "clf.fit(train_features, train_labels)\n",
    "print(clf.best_params_)\n",
    "preds = clf.predict(test_features)\n",
    "print(accuracy_score(test_labels, preds))"
   ]
  },
  {
   "cell_type": "code",
   "execution_count": 7,
   "metadata": {},
   "outputs": [
    {
     "name": "stdout",
     "output_type": "stream",
     "text": [
      "{'C': 1.0}\n",
      "0.8611111111111112\n"
     ]
    }
   ],
   "source": [
    "from sklearn.linear_model import LogisticRegression\n",
    "\n",
    "clf = GridSearchCV(LogisticRegression(penalty='l1'), {'C': [0.01, 0.1, 1.0, 10.0, 100.0, 1000.0, 10000.0]})\n",
    "clf.fit(train_features, train_labels)\n",
    "print(clf.best_params_)\n",
    "preds = clf.predict(test_features)\n",
    "print(accuracy_score(test_labels, preds))"
   ]
  },
  {
   "cell_type": "code",
   "execution_count": 8,
   "metadata": {},
   "outputs": [
    {
     "name": "stdout",
     "output_type": "stream",
     "text": [
      "{'C': 0.1, 'kernel': 'linear'}\n",
      "0.8611111111111112\n"
     ]
    }
   ],
   "source": [
    "from sklearn.svm import SVC\n",
    "\n",
    "clf = GridSearchCV(SVC(), {'kernel': ['rbf', 'linear'], 'C': [0.0001, 0.001, 0.01, 0.1, 1.0, 10.0, 100.0, 1000.0, 10000.0]})\n",
    "clf.fit(train_features, train_labels)\n",
    "print(clf.best_params_)\n",
    "preds = clf.predict(test_features)\n",
    "print(accuracy_score(test_labels, preds))"
   ]
  },
  {
   "cell_type": "markdown",
   "metadata": {},
   "source": [
    "# Single KG Path Tree"
   ]
  },
  {
   "cell_type": "code",
   "execution_count": 4,
   "metadata": {
    "ExecuteTime": {
     "end_time": "2024-02-26T12:59:32.806921010Z",
     "start_time": "2024-02-26T12:59:30.927377751Z"
    }
   },
   "outputs": [
    {
     "name": "stderr",
     "output_type": "stream",
     "text": [
      "2024-02-26 13:59:32,605\tINFO worker.py:1715 -- Started a local Ray instance. View the dashboard at \u001B[1m\u001B[32m127.0.0.1:8266 \u001B[39m\u001B[22m\n"
     ]
    }
   ],
   "source": [
    "clf = MINDWALCTree(path_max_depth=8, min_samples_leaf=1, max_tree_depth=None, progress=tqdm_notebook, n_jobs=1)"
   ]
  },
  {
   "cell_type": "code",
   "execution_count": 5,
   "metadata": {
    "scrolled": false,
    "ExecuteTime": {
     "end_time": "2024-02-26T12:59:41.336635335Z",
     "start_time": "2024-02-26T12:59:33.838026957Z"
    }
   },
   "outputs": [
    {
     "data": {
      "text/plain": "Neighborhood extraction:   0%|          | 0/140 [00:00<?, ?it/s]",
      "application/vnd.jupyter.widget-view+json": {
       "version_major": 2,
       "version_minor": 0,
       "model_id": "153feaf58980420e9d9d63b1ca88a527"
      }
     },
     "metadata": {},
     "output_type": "display_data"
    },
    {
     "name": "stdout",
     "output_type": "stream",
     "text": [
      "CPU times: user 3.51 s, sys: 41.8 ms, total: 3.55 s\n",
      "Wall time: 7.49 s\n"
     ]
    }
   ],
   "source": [
    "%%time\n",
    "clf.fit(kg, train_entities, train_labels)"
   ]
  },
  {
   "cell_type": "code",
   "execution_count": 6,
   "metadata": {
    "ExecuteTime": {
     "end_time": "2024-02-26T12:59:43.376411252Z",
     "start_time": "2024-02-26T12:59:42.732792378Z"
    }
   },
   "outputs": [
    {
     "name": "stdout",
     "output_type": "stream",
     "text": [
      "0.9166666666666666\n"
     ]
    }
   ],
   "source": [
    "preds = clf.predict(kg, test_entities)\n",
    "print(accuracy_score(test_labels, preds))"
   ]
  },
  {
   "cell_type": "code",
   "execution_count": 39,
   "metadata": {
    "collapsed": false,
    "ExecuteTime": {
     "end_time": "2024-02-26T12:51:52.622281645Z",
     "start_time": "2024-02-26T12:51:52.576883237Z"
    }
   },
   "outputs": [
    {
     "data": {
      "text/plain": "('http://www.aifb.uni-karlsruhe.de/Publikationen/viewPublikationOWL/id888instance',\n 6)"
     },
     "execution_count": 39,
     "metadata": {},
     "output_type": "execute_result"
    }
   ],
   "source": [
    "# What's the most informative walk on this dataset (root node)?\n",
    "clf.tree_.walk"
   ]
  },
  {
   "cell_type": "code",
   "outputs": [],
   "source": [
    "# export decision tree as pdf and .gv file\n",
    "clf.tree_.visualize(\"./data/AIFB/aifb_MINDWALCtree\", _view=False, meta_infos=\"Training method: MINDWALCTree\\nDataset: AIFB\\nTree depth: 8\\n\")"
   ],
   "metadata": {
    "ExecuteTime": {
     "end_time": "2024-02-26T13:06:07.549961702Z",
     "start_time": "2024-02-26T13:06:07.507912413Z"
    }
   },
   "execution_count": 13
  },
  {
   "cell_type": "markdown",
   "metadata": {},
   "source": [
    "# Forest of KG Path Trees"
   ]
  },
  {
   "cell_type": "code",
   "execution_count": 14,
   "metadata": {
    "ExecuteTime": {
     "end_time": "2024-02-26T13:06:17.730289116Z",
     "start_time": "2024-02-26T13:06:14.564778522Z"
    }
   },
   "outputs": [
    {
     "name": "stderr",
     "output_type": "stream",
     "text": [
      "2024-02-26 14:06:17,529\tINFO worker.py:1715 -- Started a local Ray instance. View the dashboard at \u001B[1m\u001B[32m127.0.0.1:8266 \u001B[39m\u001B[22m\n"
     ]
    }
   ],
   "source": [
    "clf = MINDWALCForest(path_max_depth=8, \n",
    "                     min_samples_leaf=1, \n",
    "                     max_tree_depth=None,\n",
    "                     n_estimators=25,\n",
    "                     vertex_sample=0.5,\n",
    "                     progress=tqdm_notebook,\n",
    "                     n_jobs=1)"
   ]
  },
  {
   "cell_type": "code",
   "execution_count": 15,
   "metadata": {
    "ExecuteTime": {
     "end_time": "2024-02-26T13:07:09.528469319Z",
     "start_time": "2024-02-26T13:06:19.803225117Z"
    }
   },
   "outputs": [
    {
     "data": {
      "text/plain": "Neighborhood extraction:   0%|          | 0/140 [00:00<?, ?it/s]",
      "application/vnd.jupyter.widget-view+json": {
       "version_major": 2,
       "version_minor": 0,
       "model_id": "ee366fd2c32a4789af2586d83294e71f"
      }
     },
     "metadata": {},
     "output_type": "display_data"
    },
    {
     "data": {
      "text/plain": "estimator loop:   0%|          | 0/25 [00:00<?, ?it/s]",
      "application/vnd.jupyter.widget-view+json": {
       "version_major": 2,
       "version_minor": 0,
       "model_id": "456eac5a0ba54d4e9f42ce157bc6eca5"
      }
     },
     "metadata": {},
     "output_type": "display_data"
    },
    {
     "name": "stdout",
     "output_type": "stream",
     "text": [
      "CPU times: user 8.59 s, sys: 414 ms, total: 9 s\n",
      "Wall time: 49.7 s\n"
     ]
    }
   ],
   "source": [
    "%%time\n",
    "clf.fit(kg, train_entities, train_labels)"
   ]
  },
  {
   "cell_type": "code",
   "execution_count": 16,
   "metadata": {
    "ExecuteTime": {
     "end_time": "2024-02-26T13:07:19.322763474Z",
     "start_time": "2024-02-26T13:07:18.622788225Z"
    }
   },
   "outputs": [
    {
     "data": {
      "text/plain": "Extracting neighborhoods:   0%|          | 0/36 [00:00<?, ?it/s]",
      "application/vnd.jupyter.widget-view+json": {
       "version_major": 2,
       "version_minor": 0,
       "model_id": "05c235dbf27443d397ac67ea26333ceb"
      }
     },
     "metadata": {},
     "output_type": "display_data"
    },
    {
     "name": "stdout",
     "output_type": "stream",
     "text": [
      "0.9444444444444444\n"
     ]
    }
   ],
   "source": [
    "preds = clf.predict(kg, test_entities)\n",
    "print(accuracy_score(test_labels, preds))"
   ]
  },
  {
   "cell_type": "code",
   "execution_count": 17,
   "metadata": {
    "ExecuteTime": {
     "end_time": "2024-02-26T13:08:33.077859631Z",
     "start_time": "2024-02-26T13:08:33.037156873Z"
    }
   },
   "outputs": [],
   "source": [
    "# export the first decision tree of the MINDWALCForest as pdf and .gv file\n",
    "clf.estimators_[0].tree_.visualize(\"./data/AIFB/aifb_MINDWALCForest_tree0\", _view=False, meta_infos=\"Training method: MINDWALCTree\\nDataset: AIFB\\nTree depth: 8\\n\")"
   ]
  }
 ],
 "metadata": {
  "kernelspec": {
   "display_name": "Python 3",
   "language": "python",
   "name": "python3"
  },
  "language_info": {
   "codemirror_mode": {
    "name": "ipython",
    "version": 3
   },
   "file_extension": ".py",
   "mimetype": "text/x-python",
   "name": "python",
   "nbconvert_exporter": "python",
   "pygments_lexer": "ipython3",
   "version": "3.6.8"
  }
 },
 "nbformat": 4,
 "nbformat_minor": 2
}
